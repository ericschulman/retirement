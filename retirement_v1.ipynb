{
 "cells": [
  {
   "cell_type": "code",
   "execution_count": 1,
   "id": "00f1a0b0",
   "metadata": {},
   "outputs": [],
   "source": [
    "import pandas as pd\n",
    "import math\n",
    "import numpy as np\n",
    "import statsmodels.api as sm\n",
    "import matplotlib.pyplot as plt\n",
    "\n",
    "from scipy.stats import expon #need to use scipy stats for scale\n",
    "from scipy.stats import binom\n",
    "from scipy.interpolate import interp1d #pre written interpolation function"
   ]
  },
  {
   "cell_type": "code",
   "execution_count": 25,
   "id": "8a0dc25d",
   "metadata": {},
   "outputs": [
    {
     "name": "stdout",
     "output_type": "stream",
     "text": [
      "work 1.0\n",
      "work 1.6\n",
      "retire 1.0488088481701516\n",
      "retire 1.6780941570722425\n",
      "random 1.0\n",
      "random 1.3\n"
     ]
    },
    {
     "data": {
      "text/plain": [
       "-7809415.707224243"
      ]
     },
     "execution_count": 25,
     "metadata": {},
     "output_type": "execute_result"
    }
   ],
   "source": [
    "######### generate incomes, life pr benefits procedurallly... may add slowdown later on\n",
    "def income(s):\n",
    "    return 1\n",
    "\n",
    "\n",
    "def benefit(s):\n",
    "    return 1.1\n",
    "\n",
    "\n",
    "def life_pr(s,t):\n",
    "    return 1\n",
    "\n",
    "\n",
    "########## figure out utility difference from retiring in year r.\n",
    "\n",
    "def util_work(y,w,gamma=.5):\n",
    "    return income(s)**gamma + w\n",
    "\n",
    "\n",
    "def util_retire(s,xi,k=1,gamma=.5):\n",
    "    return (k*benefit(s))**gamma + xi\n",
    "\n",
    "\n",
    "def sum_work(t,r,gamma=.5,beta=.6):\n",
    "    total = 0\n",
    "    for s in range(t,r):\n",
    "        total = beta**(s-t)*life_pr(s,t)*income(s)**gamma + total\n",
    "        print('work',total)\n",
    "    return total\n",
    "    \n",
    "\n",
    "def sum_retire(t,r,k=1,gamma=.5,beta=.6):\n",
    "    total = 0\n",
    "    for s in range(t,r):\n",
    "        total = beta**(s-t)*life_pr(s,t)*(k*benefit(s))**gamma + total\n",
    "        print('retire',total)\n",
    "    return total\n",
    "\n",
    "\n",
    "def util_deter(t,r):\n",
    "    return sum_work(t,r) - sum_retire(t,r)\n",
    "\n",
    "    \n",
    "def util_random(t,r,v=0,beta=.6,rho=.5):\n",
    "    total = 0\n",
    "    for s in range(t,r):\n",
    "        total = beta**(s-t)*life_pr(s,t)*rho**(s-t) + total\n",
    "        print('random',total)\n",
    "    return total*v\n",
    "    \n",
    "\n",
    "def pr_retire(t,s):\n",
    "    return util_deter(t,s)/np.maximum(util_random(t,s),1e-8)\n",
    "\n",
    "\n",
    "pr_retire(1,3)"
   ]
  },
  {
   "cell_type": "code",
   "execution_count": null,
   "id": "71e93b23",
   "metadata": {},
   "outputs": [],
   "source": []
  }
 ],
 "metadata": {
  "kernelspec": {
   "display_name": "Python 3 (ipykernel)",
   "language": "python",
   "name": "python3"
  },
  "language_info": {
   "codemirror_mode": {
    "name": "ipython",
    "version": 3
   },
   "file_extension": ".py",
   "mimetype": "text/x-python",
   "name": "python",
   "nbconvert_exporter": "python",
   "pygments_lexer": "ipython3",
   "version": "3.9.7"
  }
 },
 "nbformat": 4,
 "nbformat_minor": 5
}
